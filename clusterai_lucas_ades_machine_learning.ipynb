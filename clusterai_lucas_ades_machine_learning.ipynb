{
 "cells": [
  {
   "cell_type": "markdown",
   "metadata": {},
   "source": [
    "## Librerias"
   ]
  },
  {
   "cell_type": "code",
   "execution_count": 1,
   "metadata": {},
   "outputs": [],
   "source": [
    "import numpy as np\n",
    "import pandas as pd\n",
    "import matplotlib.pyplot as plt\n",
    "import seaborn as sns\n",
    "\n",
    "from sklearn import preprocessing\n",
    "from sklearn.model_selection import train_test_split\n",
    "from sklearn.linear_model import LinearRegression\n",
    "from sklearn.svm import SVR\n",
    "from sklearn.svm import LinearSVR\n",
    "from sklearn.neighbors import KNeighborsRegressor\n",
    "from sklearn.metrics import r2_score, mean_squared_error, mean_absolute_error\n",
    "from sklearn.linear_model import LinearRegression , Ridge\n",
    "\n",
    "from sklearn.model_selection import GridSearchCV"
   ]
  },
  {
   "cell_type": "code",
   "execution_count": 2,
   "metadata": {
    "scrolled": true
   },
   "outputs": [
    {
     "data": {
      "text/plain": [
       "'C:\\\\Users\\\\lucas\\\\Dropbox\\\\UTN\\\\5° Año\\\\Ciencia de Datos\\\\TP\\\\Publicidad'"
      ]
     },
     "execution_count": 2,
     "metadata": {},
     "output_type": "execute_result"
    }
   ],
   "source": [
    "pwd"
   ]
  },
  {
   "cell_type": "markdown",
   "metadata": {},
   "source": [
    "## Datasets"
   ]
  },
  {
   "cell_type": "code",
   "execution_count": 3,
   "metadata": {},
   "outputs": [],
   "source": [
    "#Lucas\n",
    "tv_16= pd.read_csv(r'C:\\Users\\lucas\\Dropbox\\UTN\\5° Año\\Ciencia de Datos\\TP\\Publicidad\\Datasets\\TV-2016.csv', delimiter=';', encoding='latin-1')\n",
    "tv_17= pd.read_csv(r'C:\\Users\\lucas\\Dropbox\\UTN\\5° Año\\Ciencia de Datos\\TP\\Publicidad\\Datasets\\TV-2017.csv', delimiter=';', encoding='latin-1')\n",
    "tv_18= pd.read_csv(r'C:\\Users\\lucas\\Dropbox\\UTN\\5° Año\\Ciencia de Datos\\TP\\Publicidad\\Datasets\\TV-2018.csv', delimiter=',')\n",
    "tv_19= pd.read_csv(r'C:\\Users\\lucas\\Dropbox\\UTN\\5° Año\\Ciencia de Datos\\TP\\Publicidad\\Datasets\\TV-2019.csv', delimiter=',')\n",
    "radios_16= pd.read_csv(r'C:\\Users\\lucas\\Dropbox\\UTN\\5° Año\\Ciencia de Datos\\TP\\Publicidad\\Datasets\\Radios-2016.csv', delimiter=';', encoding='latin-1')\n",
    "radios_17= pd.read_csv(r'C:\\Users\\lucas\\Dropbox\\UTN\\5° Año\\Ciencia de Datos\\TP\\Publicidad\\Datasets\\Radios-2017.csv', delimiter=',')\n",
    "radios_18= pd.read_csv(r'C:\\Users\\lucas\\Dropbox\\UTN\\5° Año\\Ciencia de Datos\\TP\\Publicidad\\Datasets\\Radios-2018.csv', delimiter=',')\n",
    "radios_19= pd.read_csv(r'C:\\Users\\lucas\\Dropbox\\UTN\\5° Año\\Ciencia de Datos\\TP\\Publicidad\\Datasets\\Radios-2019.csv', delimiter=',')\n",
    "mv_16= pd.read_csv(r'C:\\Users\\lucas\\Dropbox\\UTN\\5° Año\\Ciencia de Datos\\TP\\Publicidad\\Datasets\\Medios-Vecinales-2016.csv', delimiter=';', encoding='latin-1')\n",
    "mv_17= pd.read_csv(r'C:\\Users\\lucas\\Dropbox\\UTN\\5° Año\\Ciencia de Datos\\TP\\Publicidad\\Datasets\\Medios-Vecinales-2017.csv', delimiter=';', encoding='latin-1')\n",
    "mv_18= pd.read_csv(r'C:\\Users\\lucas\\Dropbox\\UTN\\5° Año\\Ciencia de Datos\\TP\\Publicidad\\Datasets\\Medios-Vecinales-2018.csv', delimiter=',')\n",
    "mv_19= pd.read_csv(r'C:\\Users\\lucas\\Dropbox\\UTN\\5° Año\\Ciencia de Datos\\TP\\Publicidad\\Datasets\\Medios-Vecinales-2019.csv', delimiter=',')\n",
    "grafica_16=pd.read_csv(r'C:\\Users\\lucas\\Dropbox\\UTN\\5° Año\\Ciencia de Datos\\TP\\Publicidad\\Datasets\\Grafica-2016.csv', delimiter=';')\n",
    "grafica_17=pd.read_csv(r'C:\\Users\\lucas\\Dropbox\\UTN\\5° Año\\Ciencia de Datos\\TP\\Publicidad\\Datasets\\Grafica-2017.csv', delimiter=';')\n",
    "grafica_18=pd.read_csv(r'C:\\Users\\lucas\\Dropbox\\UTN\\5° Año\\Ciencia de Datos\\TP\\Publicidad\\Datasets\\Grafica-2018.csv', delimiter=',')\n",
    "grafica_19=pd.read_csv(r'C:\\Users\\lucas\\Dropbox\\UTN\\5° Año\\Ciencia de Datos\\TP\\Publicidad\\Datasets\\Grafica-2019.csv', delimiter=',')\n"
   ]
  },
  {
   "cell_type": "code",
   "execution_count": 4,
   "metadata": {},
   "outputs": [],
   "source": [
    "#DATASETS NAHUE\n",
    "#tv_16= pd.read_csv(r'\\Users\\big_n\\python\\TV-2016.csv', delimiter=';', encoding='latin-1')\n",
    "#tv_17= pd.read_csv(r'\\Users\\big_n\\python\\tv-2017.csv', delimiter=';', encoding='latin-1')\n",
    "#tv_18= pd.read_csv(r'\\Users\\big_n\\python\\tv-2018.csv', delimiter=',')\n",
    "#tv_19= pd.read_csv(r'\\Users\\big_n\\python\\tv-2019.csv', delimiter=',')\n",
    "#radios_16= pd.read_csv(r'\\Users\\big_n\\python\\radio-2016.csv', delimiter=';', encoding='latin-1')\n",
    "#radios_17= pd.read_csv(r'\\Users\\big_n\\python\\radio-2017.csv', delimiter=',')\n",
    "#radios_18= pd.read_csv(r'\\Users\\big_n\\python\\radio-2018.csv', delimiter=',')\n",
    "#radios_19= pd.read_csv(r'\\Users\\big_n\\python\\radio-2019.csv', delimiter=',')\n",
    "#mv_16= pd.read_csv(r'\\Users\\big_n\\python\\Medios-Vecinales-2016.csv', delimiter=';', encoding='latin-1')\n",
    "#mv_17= pd.read_csv(r'\\Users\\big_n\\python\\medios-vecinales-2017.csv', delimiter=';', encoding='latin-1')\n",
    "#mv_18= pd.read_csv(r'\\Users\\big_n\\python\\medios-vecinales-2018.csv', delimiter=',')\n",
    "#mv_19= pd.read_csv(r'\\Users\\big_n\\python\\medios-vecinales-2019.csv', delimiter=',')\n",
    "#grafica_16=pd.read_csv(r'\\Users\\big_n\\python\\Grafica-2016.csv', delimiter=';')\n",
    "#grafica_17=pd.read_csv(r'\\Users\\big_n\\python\\grafica-2017.csv', delimiter=';')\n",
    "#grafica_18=pd.read_csv(r'\\Users\\big_n\\python\\grafica-2018.csv', delimiter=',')\n",
    "#grafica_19=pd.read_csv(r'\\Users\\big_n\\python\\grafica-2019.csv', delimiter=',')"
   ]
  },
  {
   "cell_type": "code",
   "execution_count": 5,
   "metadata": {},
   "outputs": [],
   "source": [
    "#DATASETS DAMI\n",
    "#tv_16= pd.read_csv(r'C:\\Users\\Mariela\\Desktop\\Dami\\ciencia de datos\\tp\\Datasets\\TV-2016.csv', delimiter=';', encoding='latin-1')\n",
    "#tv_17= pd.read_csv(r'C:\\Users\\Mariela\\Desktop\\Dami\\ciencia de datos\\tp\\Datasets\\TV-2017.csv', delimiter=';', encoding='latin-1')\n",
    "#tv_18= pd.read_csv(r'C:\\Users\\Mariela\\Desktop\\Dami\\ciencia de datos\\tp\\Datasets\\TV-2018.csv', delimiter=',')\n",
    "#tv_19= pd.read_csv(r'C:\\Users\\Mariela\\Desktop\\Dami\\ciencia de datos\\tp\\Datasets\\TV-2019.csv', delimiter=',')\n",
    "#radios_16= pd.read_csv(r'C:\\Users\\Mariela\\Desktop\\Dami\\ciencia de datos\\tp\\Datasets\\Radios-2016.csv', delimiter=';')\n",
    "#radios_17= pd.read_csv(r'C:\\Users\\Mariela\\Desktop\\Dami\\ciencia de datos\\tp\\Datasets\\Radios-2017.csv', delimiter=',')\n",
    "#radios_18= pd.read_csv(r'C:\\Users\\Mariela\\Desktop\\Dami\\ciencia de datos\\tp\\Datasets\\Radios-2018.csv', delimiter=',')\n",
    "#radios_19= pd.read_csv(r'C:\\Users\\Mariela\\Desktop\\Dami\\ciencia de datos\\tp\\Datasets\\Radios-2019.csv', delimiter=',')\n",
    "#mv_16= pd.read_csv(r'C:\\Users\\Mariela\\Desktop\\Dami\\ciencia de datos\\tp\\Datasets\\Medios-Vecinales-2016.csv', delimiter=';', encoding='latin-1')\n",
    "#mv_17= pd.read_csv(r'C:\\Users\\Mariela\\Desktop\\Dami\\ciencia de datos\\tp\\Datasets\\Medios-Vecinales-2017.csv', delimiter=';', encoding='latin-1')\n",
    "#mv_18= pd.read_csv(r'C:\\Users\\Mariela\\Desktop\\Dami\\ciencia de datos\\tp\\Datasets\\Medios-Vecinales-2018.csv', delimiter=',')\n",
    "#mv_19= pd.read_csv(r'C:\\Users\\Mariela\\Desktop\\Dami\\ciencia de datos\\tp\\Datasets\\Medios-Vecinales-2019.csv', delimiter=',')\n",
    "#grafica_16=pd.read_csv(r'C:\\Users\\Mariela\\Desktop\\Dami\\ciencia de datos\\tp\\Datasets\\Grafica-2016.csv', delimiter=';')\n",
    "#grafica_17=pd.read_csv(r'C:\\Users\\Mariela\\Desktop\\Dami\\ciencia de datos\\tp\\Datasets\\Grafica-2017.csv', delimiter=';')\n",
    "#grafica_18=pd.read_csv(r'C:\\Users\\Mariela\\Desktop\\Dami\\ciencia de datos\\tp\\Datasets\\Grafica-2018.csv', delimiter=',')\n",
    "#grafica_19=pd.read_csv(r'C:\\Users\\Mariela\\Desktop\\Dami\\ciencia de datos\\tp\\Datasets\\Grafica-2019.csv', delimiter=',')\n"
   ]
  },
  {
   "cell_type": "markdown",
   "metadata": {},
   "source": [
    "### TV 16"
   ]
  },
  {
   "cell_type": "code",
   "execution_count": 6,
   "metadata": {},
   "outputs": [
    {
     "data": {
      "text/html": [
       "<div>\n",
       "<style scoped>\n",
       "    .dataframe tbody tr th:only-of-type {\n",
       "        vertical-align: middle;\n",
       "    }\n",
       "\n",
       "    .dataframe tbody tr th {\n",
       "        vertical-align: top;\n",
       "    }\n",
       "\n",
       "    .dataframe thead th {\n",
       "        text-align: right;\n",
       "    }\n",
       "</style>\n",
       "<table border=\"1\" class=\"dataframe\">\n",
       "  <thead>\n",
       "    <tr style=\"text-align: right;\">\n",
       "      <th></th>\n",
       "      <th>FECHA_PUBLICACION</th>\n",
       "      <th>TIPO</th>\n",
       "      <th>MEDIO</th>\n",
       "      <th>IMPORTE</th>\n",
       "    </tr>\n",
       "  </thead>\n",
       "  <tbody>\n",
       "    <tr>\n",
       "      <th>0</th>\n",
       "      <td>01/01/2016</td>\n",
       "      <td>TV</td>\n",
       "      <td>TN</td>\n",
       "      <td>48.000,00</td>\n",
       "    </tr>\n",
       "    <tr>\n",
       "      <th>1</th>\n",
       "      <td>01/01/2016</td>\n",
       "      <td>TV</td>\n",
       "      <td>TN</td>\n",
       "      <td>48.000,00</td>\n",
       "    </tr>\n",
       "    <tr>\n",
       "      <th>2</th>\n",
       "      <td>01/01/2016</td>\n",
       "      <td>TV</td>\n",
       "      <td>CANAL METRO</td>\n",
       "      <td>20.000,00</td>\n",
       "    </tr>\n",
       "    <tr>\n",
       "      <th>3</th>\n",
       "      <td>01/01/2016</td>\n",
       "      <td>TV</td>\n",
       "      <td>CANAL METRO</td>\n",
       "      <td>25.000,00</td>\n",
       "    </tr>\n",
       "    <tr>\n",
       "      <th>4</th>\n",
       "      <td>01/01/2016</td>\n",
       "      <td>TV</td>\n",
       "      <td>AMERICA 24</td>\n",
       "      <td>31.300,00</td>\n",
       "    </tr>\n",
       "  </tbody>\n",
       "</table>\n",
       "</div>"
      ],
      "text/plain": [
       "  FECHA_PUBLICACION TIPO        MEDIO   IMPORTE \n",
       "0        01/01/2016   TV           TN  48.000,00\n",
       "1        01/01/2016   TV           TN  48.000,00\n",
       "2        01/01/2016   TV  CANAL METRO  20.000,00\n",
       "3        01/01/2016   TV  CANAL METRO  25.000,00\n",
       "4        01/01/2016   TV   AMERICA 24  31.300,00"
      ]
     },
     "execution_count": 6,
     "metadata": {},
     "output_type": "execute_result"
    }
   ],
   "source": [
    "tv_16.head()"
   ]
  },
  {
   "cell_type": "code",
   "execution_count": 7,
   "metadata": {},
   "outputs": [
    {
     "data": {
      "text/html": [
       "<div>\n",
       "<style scoped>\n",
       "    .dataframe tbody tr th:only-of-type {\n",
       "        vertical-align: middle;\n",
       "    }\n",
       "\n",
       "    .dataframe tbody tr th {\n",
       "        vertical-align: top;\n",
       "    }\n",
       "\n",
       "    .dataframe thead th {\n",
       "        text-align: right;\n",
       "    }\n",
       "</style>\n",
       "<table border=\"1\" class=\"dataframe\">\n",
       "  <thead>\n",
       "    <tr style=\"text-align: right;\">\n",
       "      <th></th>\n",
       "      <th>FECHA_PUBLICACION</th>\n",
       "      <th>TIPO</th>\n",
       "      <th>MEDIO</th>\n",
       "      <th>IMPORTE</th>\n",
       "    </tr>\n",
       "  </thead>\n",
       "  <tbody>\n",
       "    <tr>\n",
       "      <th>0</th>\n",
       "      <td>01/01/2016</td>\n",
       "      <td>TV</td>\n",
       "      <td>TN</td>\n",
       "      <td>48000.00</td>\n",
       "    </tr>\n",
       "    <tr>\n",
       "      <th>1</th>\n",
       "      <td>01/01/2016</td>\n",
       "      <td>TV</td>\n",
       "      <td>TN</td>\n",
       "      <td>48000.00</td>\n",
       "    </tr>\n",
       "    <tr>\n",
       "      <th>2</th>\n",
       "      <td>01/01/2016</td>\n",
       "      <td>TV</td>\n",
       "      <td>CANAL METRO</td>\n",
       "      <td>20000.00</td>\n",
       "    </tr>\n",
       "  </tbody>\n",
       "</table>\n",
       "</div>"
      ],
      "text/plain": [
       "  FECHA_PUBLICACION TIPO        MEDIO  IMPORTE \n",
       "0        01/01/2016   TV           TN  48000.00\n",
       "1        01/01/2016   TV           TN  48000.00\n",
       "2        01/01/2016   TV  CANAL METRO  20000.00"
      ]
     },
     "execution_count": 7,
     "metadata": {},
     "output_type": "execute_result"
    }
   ],
   "source": [
    "#REEMPLAZO \",\" POR \".\" y \".\" por nada PARA PODER CONVERTIR IMPORTE EN float\n",
    "\n",
    "tv_16['IMPORTE '] = tv_16['IMPORTE '].str.replace('.','')\n",
    "tv_16['IMPORTE '] = tv_16['IMPORTE '].str.replace(',','.')\n",
    "tv_16.head(3)"
   ]
  },
  {
   "cell_type": "code",
   "execution_count": 8,
   "metadata": {},
   "outputs": [],
   "source": [
    "# CONVIERTO COLUMNA IMPORTE EN FLOAT\n",
    "\n",
    "tv_16['IMPORTE '] = tv_16['IMPORTE '].astype(float)"
   ]
  },
  {
   "cell_type": "code",
   "execution_count": 9,
   "metadata": {},
   "outputs": [
    {
     "data": {
      "text/plain": [
       "IMPORTE              0\n",
       "MEDIO                0\n",
       "TIPO                 0\n",
       "FECHA_PUBLICACION    0\n",
       "dtype: int64"
      ]
     },
     "execution_count": 9,
     "metadata": {},
     "output_type": "execute_result"
    }
   ],
   "source": [
    "#REVISO SI HAY VALORES NULOS\n",
    "\n",
    "tv_16.isnull().sum().sort_values(ascending=False)"
   ]
  },
  {
   "cell_type": "code",
   "execution_count": 10,
   "metadata": {},
   "outputs": [
    {
     "data": {
      "text/html": [
       "<div>\n",
       "<style scoped>\n",
       "    .dataframe tbody tr th:only-of-type {\n",
       "        vertical-align: middle;\n",
       "    }\n",
       "\n",
       "    .dataframe tbody tr th {\n",
       "        vertical-align: top;\n",
       "    }\n",
       "\n",
       "    .dataframe thead th {\n",
       "        text-align: right;\n",
       "    }\n",
       "</style>\n",
       "<table border=\"1\" class=\"dataframe\">\n",
       "  <thead>\n",
       "    <tr style=\"text-align: right;\">\n",
       "      <th></th>\n",
       "      <th>fecha</th>\n",
       "      <th>tipo</th>\n",
       "      <th>medio</th>\n",
       "      <th>importe</th>\n",
       "    </tr>\n",
       "  </thead>\n",
       "  <tbody>\n",
       "    <tr>\n",
       "      <th>0</th>\n",
       "      <td>01/01/2016</td>\n",
       "      <td>TV</td>\n",
       "      <td>TN</td>\n",
       "      <td>48000.0</td>\n",
       "    </tr>\n",
       "    <tr>\n",
       "      <th>1</th>\n",
       "      <td>01/01/2016</td>\n",
       "      <td>TV</td>\n",
       "      <td>TN</td>\n",
       "      <td>48000.0</td>\n",
       "    </tr>\n",
       "    <tr>\n",
       "      <th>2</th>\n",
       "      <td>01/01/2016</td>\n",
       "      <td>TV</td>\n",
       "      <td>CANAL METRO</td>\n",
       "      <td>20000.0</td>\n",
       "    </tr>\n",
       "    <tr>\n",
       "      <th>3</th>\n",
       "      <td>01/01/2016</td>\n",
       "      <td>TV</td>\n",
       "      <td>CANAL METRO</td>\n",
       "      <td>25000.0</td>\n",
       "    </tr>\n",
       "    <tr>\n",
       "      <th>4</th>\n",
       "      <td>01/01/2016</td>\n",
       "      <td>TV</td>\n",
       "      <td>AMERICA 24</td>\n",
       "      <td>31300.0</td>\n",
       "    </tr>\n",
       "  </tbody>\n",
       "</table>\n",
       "</div>"
      ],
      "text/plain": [
       "        fecha tipo        medio  importe\n",
       "0  01/01/2016   TV           TN  48000.0\n",
       "1  01/01/2016   TV           TN  48000.0\n",
       "2  01/01/2016   TV  CANAL METRO  20000.0\n",
       "3  01/01/2016   TV  CANAL METRO  25000.0\n",
       "4  01/01/2016   TV   AMERICA 24  31300.0"
      ]
     },
     "execution_count": 10,
     "metadata": {},
     "output_type": "execute_result"
    }
   ],
   "source": [
    "#CAMBIO NOMBRE COLUMNAS PARA PODER CONCATENAR LUEGO\n",
    "\n",
    "tv_16.columns=['fecha','tipo','medio','importe']\n",
    "tv_16.head()"
   ]
  },
  {
   "cell_type": "code",
   "execution_count": 11,
   "metadata": {},
   "outputs": [
    {
     "data": {
      "text/html": [
       "<div>\n",
       "<style scoped>\n",
       "    .dataframe tbody tr th:only-of-type {\n",
       "        vertical-align: middle;\n",
       "    }\n",
       "\n",
       "    .dataframe tbody tr th {\n",
       "        vertical-align: top;\n",
       "    }\n",
       "\n",
       "    .dataframe thead th {\n",
       "        text-align: right;\n",
       "    }\n",
       "</style>\n",
       "<table border=\"1\" class=\"dataframe\">\n",
       "  <thead>\n",
       "    <tr style=\"text-align: right;\">\n",
       "      <th></th>\n",
       "      <th>tipo</th>\n",
       "      <th>fecha</th>\n",
       "      <th>medio</th>\n",
       "      <th>importe</th>\n",
       "    </tr>\n",
       "  </thead>\n",
       "  <tbody>\n",
       "    <tr>\n",
       "      <th>0</th>\n",
       "      <td>TV</td>\n",
       "      <td>01/01/2016</td>\n",
       "      <td>TN</td>\n",
       "      <td>48000.0</td>\n",
       "    </tr>\n",
       "    <tr>\n",
       "      <th>1</th>\n",
       "      <td>TV</td>\n",
       "      <td>01/01/2016</td>\n",
       "      <td>TN</td>\n",
       "      <td>48000.0</td>\n",
       "    </tr>\n",
       "    <tr>\n",
       "      <th>2</th>\n",
       "      <td>TV</td>\n",
       "      <td>01/01/2016</td>\n",
       "      <td>CANAL METRO</td>\n",
       "      <td>20000.0</td>\n",
       "    </tr>\n",
       "  </tbody>\n",
       "</table>\n",
       "</div>"
      ],
      "text/plain": [
       "  tipo       fecha        medio  importe\n",
       "0   TV  01/01/2016           TN  48000.0\n",
       "1   TV  01/01/2016           TN  48000.0\n",
       "2   TV  01/01/2016  CANAL METRO  20000.0"
      ]
     },
     "execution_count": 11,
     "metadata": {},
     "output_type": "execute_result"
    }
   ],
   "source": [
    "#ORDENO COLUMNAS\n",
    "\n",
    "tv_16=tv_16[['tipo','fecha','medio','importe']]\n",
    "tv_16.head(3)"
   ]
  },
  {
   "cell_type": "markdown",
   "metadata": {},
   "source": [
    "### TV 17"
   ]
  },
  {
   "cell_type": "code",
   "execution_count": 12,
   "metadata": {
    "scrolled": false
   },
   "outputs": [
    {
     "data": {
      "text/html": [
       "<div>\n",
       "<style scoped>\n",
       "    .dataframe tbody tr th:only-of-type {\n",
       "        vertical-align: middle;\n",
       "    }\n",
       "\n",
       "    .dataframe tbody tr th {\n",
       "        vertical-align: top;\n",
       "    }\n",
       "\n",
       "    .dataframe thead th {\n",
       "        text-align: right;\n",
       "    }\n",
       "</style>\n",
       "<table border=\"1\" class=\"dataframe\">\n",
       "  <thead>\n",
       "    <tr style=\"text-align: right;\">\n",
       "      <th></th>\n",
       "      <th>TIPO</th>\n",
       "      <th>Fecha</th>\n",
       "      <th>Medio</th>\n",
       "      <th>Importe</th>\n",
       "    </tr>\n",
       "  </thead>\n",
       "  <tbody>\n",
       "    <tr>\n",
       "      <th>0</th>\n",
       "      <td>TV DE PAGO</td>\n",
       "      <td>29/11/2017</td>\n",
       "      <td>TNT-LA</td>\n",
       "      <td>6747956</td>\n",
       "    </tr>\n",
       "    <tr>\n",
       "      <th>1</th>\n",
       "      <td>TV ABIERTA</td>\n",
       "      <td>18/04/2017</td>\n",
       "      <td>TELEFE</td>\n",
       "      <td>6036629,5</td>\n",
       "    </tr>\n",
       "    <tr>\n",
       "      <th>2</th>\n",
       "      <td>TV ABIERTA</td>\n",
       "      <td>18/04/2017</td>\n",
       "      <td>TELEFE</td>\n",
       "      <td>6020960</td>\n",
       "    </tr>\n",
       "    <tr>\n",
       "      <th>3</th>\n",
       "      <td>TV ABIERTA</td>\n",
       "      <td>07/12/2017</td>\n",
       "      <td>TELEFE</td>\n",
       "      <td>5916186</td>\n",
       "    </tr>\n",
       "    <tr>\n",
       "      <th>4</th>\n",
       "      <td>TV DE PAGO</td>\n",
       "      <td>01/12/2017</td>\n",
       "      <td>WARNER</td>\n",
       "      <td>5272170</td>\n",
       "    </tr>\n",
       "  </tbody>\n",
       "</table>\n",
       "</div>"
      ],
      "text/plain": [
       "         TIPO       Fecha   Medio    Importe\n",
       "0  TV DE PAGO  29/11/2017  TNT-LA    6747956\n",
       "1  TV ABIERTA  18/04/2017  TELEFE  6036629,5\n",
       "2  TV ABIERTA  18/04/2017  TELEFE    6020960\n",
       "3  TV ABIERTA  07/12/2017  TELEFE    5916186\n",
       "4  TV DE PAGO  01/12/2017  WARNER    5272170"
      ]
     },
     "execution_count": 12,
     "metadata": {},
     "output_type": "execute_result"
    }
   ],
   "source": [
    "tv_17.head()"
   ]
  },
  {
   "cell_type": "code",
   "execution_count": 13,
   "metadata": {
    "scrolled": true
   },
   "outputs": [
    {
     "data": {
      "text/html": [
       "<div>\n",
       "<style scoped>\n",
       "    .dataframe tbody tr th:only-of-type {\n",
       "        vertical-align: middle;\n",
       "    }\n",
       "\n",
       "    .dataframe tbody tr th {\n",
       "        vertical-align: top;\n",
       "    }\n",
       "\n",
       "    .dataframe thead th {\n",
       "        text-align: right;\n",
       "    }\n",
       "</style>\n",
       "<table border=\"1\" class=\"dataframe\">\n",
       "  <thead>\n",
       "    <tr style=\"text-align: right;\">\n",
       "      <th></th>\n",
       "      <th>TIPO</th>\n",
       "      <th>Fecha</th>\n",
       "      <th>Medio</th>\n",
       "      <th>Importe</th>\n",
       "    </tr>\n",
       "  </thead>\n",
       "  <tbody>\n",
       "    <tr>\n",
       "      <th>0</th>\n",
       "      <td>TV DE PAGO</td>\n",
       "      <td>29/11/2017</td>\n",
       "      <td>TNT-LA</td>\n",
       "      <td>6747956</td>\n",
       "    </tr>\n",
       "    <tr>\n",
       "      <th>1</th>\n",
       "      <td>TV ABIERTA</td>\n",
       "      <td>18/04/2017</td>\n",
       "      <td>TELEFE</td>\n",
       "      <td>6036629.5</td>\n",
       "    </tr>\n",
       "    <tr>\n",
       "      <th>2</th>\n",
       "      <td>TV ABIERTA</td>\n",
       "      <td>18/04/2017</td>\n",
       "      <td>TELEFE</td>\n",
       "      <td>6020960</td>\n",
       "    </tr>\n",
       "  </tbody>\n",
       "</table>\n",
       "</div>"
      ],
      "text/plain": [
       "         TIPO       Fecha   Medio    Importe\n",
       "0  TV DE PAGO  29/11/2017  TNT-LA    6747956\n",
       "1  TV ABIERTA  18/04/2017  TELEFE  6036629.5\n",
       "2  TV ABIERTA  18/04/2017  TELEFE    6020960"
      ]
     },
     "execution_count": 13,
     "metadata": {},
     "output_type": "execute_result"
    }
   ],
   "source": [
    "#REEMPLAZO \",\" POR \".\" PARA PODER CONVERTIR IMPORTE EN float\n",
    "\n",
    "tv_17['Importe'] = tv_17['Importe'].str.replace(',','.')\n",
    "tv_17.head(3)"
   ]
  },
  {
   "cell_type": "code",
   "execution_count": 14,
   "metadata": {},
   "outputs": [
    {
     "data": {
      "text/plain": [
       "(65535, 4)"
      ]
     },
     "execution_count": 14,
     "metadata": {},
     "output_type": "execute_result"
    }
   ],
   "source": [
    "np.shape(tv_17)"
   ]
  },
  {
   "cell_type": "code",
   "execution_count": 15,
   "metadata": {},
   "outputs": [
    {
     "data": {
      "text/plain": [
       "Importe    64381\n",
       "Medio      64381\n",
       "Fecha      64381\n",
       "TIPO       64381\n",
       "dtype: int64"
      ]
     },
     "execution_count": 15,
     "metadata": {},
     "output_type": "execute_result"
    }
   ],
   "source": [
    "#REVISO SI HAY VALORES NULOS\n",
    "\n",
    "tv_17.isnull().sum().sort_values(ascending=False)"
   ]
  },
  {
   "cell_type": "code",
   "execution_count": 16,
   "metadata": {},
   "outputs": [
    {
     "data": {
      "text/plain": [
       "Importe    0\n",
       "Medio      0\n",
       "Fecha      0\n",
       "TIPO       0\n",
       "dtype: int64"
      ]
     },
     "execution_count": 16,
     "metadata": {},
     "output_type": "execute_result"
    }
   ],
   "source": [
    "#ELIMINO VALORES NULOS\n",
    "\n",
    "tv_17=tv_17.dropna(subset=['Medio'])\n",
    "tv_17.isnull().sum().sort_values(ascending=False)"
   ]
  },
  {
   "cell_type": "code",
   "execution_count": 17,
   "metadata": {
    "scrolled": true
   },
   "outputs": [
    {
     "data": {
      "text/html": [
       "<div>\n",
       "<style scoped>\n",
       "    .dataframe tbody tr th:only-of-type {\n",
       "        vertical-align: middle;\n",
       "    }\n",
       "\n",
       "    .dataframe tbody tr th {\n",
       "        vertical-align: top;\n",
       "    }\n",
       "\n",
       "    .dataframe thead th {\n",
       "        text-align: right;\n",
       "    }\n",
       "</style>\n",
       "<table border=\"1\" class=\"dataframe\">\n",
       "  <thead>\n",
       "    <tr style=\"text-align: right;\">\n",
       "      <th></th>\n",
       "      <th>TIPO</th>\n",
       "      <th>Fecha</th>\n",
       "      <th>Medio</th>\n",
       "      <th>Importe</th>\n",
       "    </tr>\n",
       "  </thead>\n",
       "  <tbody>\n",
       "    <tr>\n",
       "      <th>0</th>\n",
       "      <td>TV DE PAGO</td>\n",
       "      <td>29/11/2017</td>\n",
       "      <td>TNT-LA</td>\n",
       "      <td>6747956.0</td>\n",
       "    </tr>\n",
       "    <tr>\n",
       "      <th>1</th>\n",
       "      <td>TV ABIERTA</td>\n",
       "      <td>18/04/2017</td>\n",
       "      <td>TELEFE</td>\n",
       "      <td>6036629.5</td>\n",
       "    </tr>\n",
       "    <tr>\n",
       "      <th>2</th>\n",
       "      <td>TV ABIERTA</td>\n",
       "      <td>18/04/2017</td>\n",
       "      <td>TELEFE</td>\n",
       "      <td>6020960.0</td>\n",
       "    </tr>\n",
       "    <tr>\n",
       "      <th>3</th>\n",
       "      <td>TV ABIERTA</td>\n",
       "      <td>07/12/2017</td>\n",
       "      <td>TELEFE</td>\n",
       "      <td>5916186.0</td>\n",
       "    </tr>\n",
       "    <tr>\n",
       "      <th>4</th>\n",
       "      <td>TV DE PAGO</td>\n",
       "      <td>01/12/2017</td>\n",
       "      <td>WARNER</td>\n",
       "      <td>5272170.0</td>\n",
       "    </tr>\n",
       "  </tbody>\n",
       "</table>\n",
       "</div>"
      ],
      "text/plain": [
       "         TIPO       Fecha   Medio    Importe\n",
       "0  TV DE PAGO  29/11/2017  TNT-LA  6747956.0\n",
       "1  TV ABIERTA  18/04/2017  TELEFE  6036629.5\n",
       "2  TV ABIERTA  18/04/2017  TELEFE  6020960.0\n",
       "3  TV ABIERTA  07/12/2017  TELEFE  5916186.0\n",
       "4  TV DE PAGO  01/12/2017  WARNER  5272170.0"
      ]
     },
     "execution_count": 17,
     "metadata": {},
     "output_type": "execute_result"
    }
   ],
   "source": [
    "# CONVIERTO COLUMNA IMPORTE EN FLOAT\n",
    "\n",
    "tv_17['Importe'] = tv_17['Importe'].astype(float)\n",
    "tv_17.head()"
   ]
  },
  {
   "cell_type": "code",
   "execution_count": 18,
   "metadata": {
    "scrolled": true
   },
   "outputs": [
    {
     "data": {
      "text/html": [
       "<div>\n",
       "<style scoped>\n",
       "    .dataframe tbody tr th:only-of-type {\n",
       "        vertical-align: middle;\n",
       "    }\n",
       "\n",
       "    .dataframe tbody tr th {\n",
       "        vertical-align: top;\n",
       "    }\n",
       "\n",
       "    .dataframe thead th {\n",
       "        text-align: right;\n",
       "    }\n",
       "</style>\n",
       "<table border=\"1\" class=\"dataframe\">\n",
       "  <thead>\n",
       "    <tr style=\"text-align: right;\">\n",
       "      <th></th>\n",
       "      <th>tipo</th>\n",
       "      <th>fecha</th>\n",
       "      <th>medio</th>\n",
       "      <th>importe</th>\n",
       "    </tr>\n",
       "  </thead>\n",
       "  <tbody>\n",
       "    <tr>\n",
       "      <th>0</th>\n",
       "      <td>TV DE PAGO</td>\n",
       "      <td>29/11/2017</td>\n",
       "      <td>TNT-LA</td>\n",
       "      <td>6747956.0</td>\n",
       "    </tr>\n",
       "    <tr>\n",
       "      <th>1</th>\n",
       "      <td>TV ABIERTA</td>\n",
       "      <td>18/04/2017</td>\n",
       "      <td>TELEFE</td>\n",
       "      <td>6036629.5</td>\n",
       "    </tr>\n",
       "    <tr>\n",
       "      <th>2</th>\n",
       "      <td>TV ABIERTA</td>\n",
       "      <td>18/04/2017</td>\n",
       "      <td>TELEFE</td>\n",
       "      <td>6020960.0</td>\n",
       "    </tr>\n",
       "    <tr>\n",
       "      <th>3</th>\n",
       "      <td>TV ABIERTA</td>\n",
       "      <td>07/12/2017</td>\n",
       "      <td>TELEFE</td>\n",
       "      <td>5916186.0</td>\n",
       "    </tr>\n",
       "    <tr>\n",
       "      <th>4</th>\n",
       "      <td>TV DE PAGO</td>\n",
       "      <td>01/12/2017</td>\n",
       "      <td>WARNER</td>\n",
       "      <td>5272170.0</td>\n",
       "    </tr>\n",
       "  </tbody>\n",
       "</table>\n",
       "</div>"
      ],
      "text/plain": [
       "         tipo       fecha   medio    importe\n",
       "0  TV DE PAGO  29/11/2017  TNT-LA  6747956.0\n",
       "1  TV ABIERTA  18/04/2017  TELEFE  6036629.5\n",
       "2  TV ABIERTA  18/04/2017  TELEFE  6020960.0\n",
       "3  TV ABIERTA  07/12/2017  TELEFE  5916186.0\n",
       "4  TV DE PAGO  01/12/2017  WARNER  5272170.0"
      ]
     },
     "execution_count": 18,
     "metadata": {},
     "output_type": "execute_result"
    }
   ],
   "source": [
    "#CAMBIO NOMBRE COLUMNAS PARA PODER CONCATENAR LUEGO\n",
    "\n",
    "tv_17.columns=['tipo','fecha','medio','importe']\n",
    "tv_17.head()"
   ]
  },
  {
   "cell_type": "markdown",
   "metadata": {},
   "source": [
    "### TV 18"
   ]
  },
  {
   "cell_type": "code",
   "execution_count": 19,
   "metadata": {
    "scrolled": false
   },
   "outputs": [
    {
     "data": {
      "text/html": [
       "<div>\n",
       "<style scoped>\n",
       "    .dataframe tbody tr th:only-of-type {\n",
       "        vertical-align: middle;\n",
       "    }\n",
       "\n",
       "    .dataframe tbody tr th {\n",
       "        vertical-align: top;\n",
       "    }\n",
       "\n",
       "    .dataframe thead th {\n",
       "        text-align: right;\n",
       "    }\n",
       "</style>\n",
       "<table border=\"1\" class=\"dataframe\">\n",
       "  <thead>\n",
       "    <tr style=\"text-align: right;\">\n",
       "      <th></th>\n",
       "      <th>tipo</th>\n",
       "      <th>fecha</th>\n",
       "      <th>medio</th>\n",
       "      <th>importe</th>\n",
       "    </tr>\n",
       "  </thead>\n",
       "  <tbody>\n",
       "    <tr>\n",
       "      <th>0</th>\n",
       "      <td>TV ABIERTA</td>\n",
       "      <td>2018-01-09</td>\n",
       "      <td>CANAL 13</td>\n",
       "      <td>128986.00</td>\n",
       "    </tr>\n",
       "    <tr>\n",
       "      <th>1</th>\n",
       "      <td>TV ABIERTA</td>\n",
       "      <td>2018-01-09</td>\n",
       "      <td>CANAL 13</td>\n",
       "      <td>2285627.00</td>\n",
       "    </tr>\n",
       "    <tr>\n",
       "      <th>2</th>\n",
       "      <td>TV ABIERTA</td>\n",
       "      <td>2018-01-11</td>\n",
       "      <td>CANAL 13</td>\n",
       "      <td>386958.00</td>\n",
       "    </tr>\n",
       "    <tr>\n",
       "      <th>3</th>\n",
       "      <td>TV ABIERTA</td>\n",
       "      <td>2018-01-12</td>\n",
       "      <td>AMÉRICA TV</td>\n",
       "      <td>1800400.14</td>\n",
       "    </tr>\n",
       "    <tr>\n",
       "      <th>4</th>\n",
       "      <td>TV ABIERTA</td>\n",
       "      <td>2018-01-12</td>\n",
       "      <td>TELEFE</td>\n",
       "      <td>2416975.00</td>\n",
       "    </tr>\n",
       "  </tbody>\n",
       "</table>\n",
       "</div>"
      ],
      "text/plain": [
       "         tipo       fecha       medio     importe\n",
       "0  TV ABIERTA  2018-01-09    CANAL 13   128986.00\n",
       "1  TV ABIERTA  2018-01-09    CANAL 13  2285627.00\n",
       "2  TV ABIERTA  2018-01-11    CANAL 13   386958.00\n",
       "3  TV ABIERTA  2018-01-12  AMÉRICA TV  1800400.14\n",
       "4  TV ABIERTA  2018-01-12      TELEFE  2416975.00"
      ]
     },
     "execution_count": 19,
     "metadata": {},
     "output_type": "execute_result"
    }
   ],
   "source": [
    "tv_18.head()"
   ]
  },
  {
   "cell_type": "code",
   "execution_count": 20,
   "metadata": {
    "scrolled": false
   },
   "outputs": [
    {
     "data": {
      "text/plain": [
       "importe    0\n",
       "medio      0\n",
       "fecha      0\n",
       "tipo       0\n",
       "dtype: int64"
      ]
     },
     "execution_count": 20,
     "metadata": {},
     "output_type": "execute_result"
    }
   ],
   "source": [
    "tv_18.isnull().sum().sort_values(ascending=False)"
   ]
  },
  {
   "cell_type": "code",
   "execution_count": 21,
   "metadata": {},
   "outputs": [],
   "source": [
    "tv_18['importe'] = tv_18['importe'].astype(float)"
   ]
  },
  {
   "cell_type": "markdown",
   "metadata": {},
   "source": [
    "### TV 19"
   ]
  },
  {
   "cell_type": "code",
   "execution_count": 22,
   "metadata": {
    "scrolled": false
   },
   "outputs": [
    {
     "data": {
      "text/html": [
       "<div>\n",
       "<style scoped>\n",
       "    .dataframe tbody tr th:only-of-type {\n",
       "        vertical-align: middle;\n",
       "    }\n",
       "\n",
       "    .dataframe tbody tr th {\n",
       "        vertical-align: top;\n",
       "    }\n",
       "\n",
       "    .dataframe thead th {\n",
       "        text-align: right;\n",
       "    }\n",
       "</style>\n",
       "<table border=\"1\" class=\"dataframe\">\n",
       "  <thead>\n",
       "    <tr style=\"text-align: right;\">\n",
       "      <th></th>\n",
       "      <th>tipo</th>\n",
       "      <th>fecha</th>\n",
       "      <th>medio</th>\n",
       "      <th>importe</th>\n",
       "    </tr>\n",
       "  </thead>\n",
       "  <tbody>\n",
       "    <tr>\n",
       "      <th>0</th>\n",
       "      <td>TV ABIERTA</td>\n",
       "      <td>2019-01-08</td>\n",
       "      <td>CANAL 13</td>\n",
       "      <td>364815,00</td>\n",
       "    </tr>\n",
       "    <tr>\n",
       "      <th>1</th>\n",
       "      <td>TV ABIERTA</td>\n",
       "      <td>2019-01-08</td>\n",
       "      <td>AMÉRICA TV</td>\n",
       "      <td>1464100,00</td>\n",
       "    </tr>\n",
       "    <tr>\n",
       "      <th>2</th>\n",
       "      <td>TV ABIERTA</td>\n",
       "      <td>2019-01-08</td>\n",
       "      <td>CANAL 13</td>\n",
       "      <td>2765609,00</td>\n",
       "    </tr>\n",
       "    <tr>\n",
       "      <th>3</th>\n",
       "      <td>TV ABIERTA</td>\n",
       "      <td>2019-01-18</td>\n",
       "      <td>CANAL 13</td>\n",
       "      <td>441951,00</td>\n",
       "    </tr>\n",
       "    <tr>\n",
       "      <th>4</th>\n",
       "      <td>TV ABIERTA</td>\n",
       "      <td>2019-01-18</td>\n",
       "      <td>CANAL 13</td>\n",
       "      <td>76230,00</td>\n",
       "    </tr>\n",
       "  </tbody>\n",
       "</table>\n",
       "</div>"
      ],
      "text/plain": [
       "         tipo       fecha       medio     importe\n",
       "0  TV ABIERTA  2019-01-08    CANAL 13   364815,00\n",
       "1  TV ABIERTA  2019-01-08  AMÉRICA TV  1464100,00\n",
       "2  TV ABIERTA  2019-01-08    CANAL 13  2765609,00\n",
       "3  TV ABIERTA  2019-01-18    CANAL 13   441951,00\n",
       "4  TV ABIERTA  2019-01-18    CANAL 13    76230,00"
      ]
     },
     "execution_count": 22,
     "metadata": {},
     "output_type": "execute_result"
    }
   ],
   "source": [
    "tv_19.head()"
   ]
  },
  {
   "cell_type": "code",
   "execution_count": 23,
   "metadata": {
    "scrolled": true
   },
   "outputs": [
    {
     "data": {
      "text/plain": [
       "importe    0\n",
       "medio      0\n",
       "fecha      0\n",
       "tipo       0\n",
       "dtype: int64"
      ]
     },
     "execution_count": 23,
     "metadata": {},
     "output_type": "execute_result"
    }
   ],
   "source": [
    "tv_19.isnull().sum().sort_values(ascending=False)"
   ]
  },
  {
   "cell_type": "code",
   "execution_count": 24,
   "metadata": {},
   "outputs": [],
   "source": [
    "tv_19['importe'] = tv_19['importe'].str.replace(',','.')"
   ]
  },
  {
   "cell_type": "code",
   "execution_count": 25,
   "metadata": {
    "scrolled": true
   },
   "outputs": [
    {
     "data": {
      "text/html": [
       "<div>\n",
       "<style scoped>\n",
       "    .dataframe tbody tr th:only-of-type {\n",
       "        vertical-align: middle;\n",
       "    }\n",
       "\n",
       "    .dataframe tbody tr th {\n",
       "        vertical-align: top;\n",
       "    }\n",
       "\n",
       "    .dataframe thead th {\n",
       "        text-align: right;\n",
       "    }\n",
       "</style>\n",
       "<table border=\"1\" class=\"dataframe\">\n",
       "  <thead>\n",
       "    <tr style=\"text-align: right;\">\n",
       "      <th></th>\n",
       "      <th>tipo</th>\n",
       "      <th>fecha</th>\n",
       "      <th>medio</th>\n",
       "      <th>importe</th>\n",
       "    </tr>\n",
       "  </thead>\n",
       "  <tbody>\n",
       "    <tr>\n",
       "      <th>0</th>\n",
       "      <td>TV ABIERTA</td>\n",
       "      <td>2019/01/08</td>\n",
       "      <td>CANAL 13</td>\n",
       "      <td>364815.0</td>\n",
       "    </tr>\n",
       "    <tr>\n",
       "      <th>1</th>\n",
       "      <td>TV ABIERTA</td>\n",
       "      <td>2019/01/08</td>\n",
       "      <td>AMÉRICA TV</td>\n",
       "      <td>1464100.0</td>\n",
       "    </tr>\n",
       "    <tr>\n",
       "      <th>2</th>\n",
       "      <td>TV ABIERTA</td>\n",
       "      <td>2019/01/08</td>\n",
       "      <td>CANAL 13</td>\n",
       "      <td>2765609.0</td>\n",
       "    </tr>\n",
       "  </tbody>\n",
       "</table>\n",
       "</div>"
      ],
      "text/plain": [
       "         tipo       fecha       medio    importe\n",
       "0  TV ABIERTA  2019/01/08    CANAL 13   364815.0\n",
       "1  TV ABIERTA  2019/01/08  AMÉRICA TV  1464100.0\n",
       "2  TV ABIERTA  2019/01/08    CANAL 13  2765609.0"
      ]
     },
     "execution_count": 25,
     "metadata": {},
     "output_type": "execute_result"
    }
   ],
   "source": [
    "tv_19['importe'] = tv_19['importe'].astype(float)\n",
    "tv_19['fecha'] = tv_19['fecha'].str.replace('-','/')\n",
    "tv_19.head(3)\n"
   ]
  },
  {
   "cell_type": "markdown",
   "metadata": {},
   "source": [
    "### TV"
   ]
  },
  {
   "cell_type": "code",
   "execution_count": 26,
   "metadata": {},
   "outputs": [
    {
     "data": {
      "text/html": [
       "<div>\n",
       "<style scoped>\n",
       "    .dataframe tbody tr th:only-of-type {\n",
       "        vertical-align: middle;\n",
       "    }\n",
       "\n",
       "    .dataframe tbody tr th {\n",
       "        vertical-align: top;\n",
       "    }\n",
       "\n",
       "    .dataframe thead th {\n",
       "        text-align: right;\n",
       "    }\n",
       "</style>\n",
       "<table border=\"1\" class=\"dataframe\">\n",
       "  <thead>\n",
       "    <tr style=\"text-align: right;\">\n",
       "      <th></th>\n",
       "      <th>tipo</th>\n",
       "      <th>fecha</th>\n",
       "      <th>medio</th>\n",
       "      <th>importe</th>\n",
       "    </tr>\n",
       "  </thead>\n",
       "  <tbody>\n",
       "    <tr>\n",
       "      <th>0</th>\n",
       "      <td>TV</td>\n",
       "      <td>01/01/2016</td>\n",
       "      <td>TN</td>\n",
       "      <td>48000.0</td>\n",
       "    </tr>\n",
       "    <tr>\n",
       "      <th>1</th>\n",
       "      <td>TV</td>\n",
       "      <td>01/01/2016</td>\n",
       "      <td>TN</td>\n",
       "      <td>48000.0</td>\n",
       "    </tr>\n",
       "    <tr>\n",
       "      <th>2</th>\n",
       "      <td>TV</td>\n",
       "      <td>01/01/2016</td>\n",
       "      <td>CANAL METRO</td>\n",
       "      <td>20000.0</td>\n",
       "    </tr>\n",
       "    <tr>\n",
       "      <th>3</th>\n",
       "      <td>TV</td>\n",
       "      <td>01/01/2016</td>\n",
       "      <td>CANAL METRO</td>\n",
       "      <td>25000.0</td>\n",
       "    </tr>\n",
       "    <tr>\n",
       "      <th>4</th>\n",
       "      <td>TV</td>\n",
       "      <td>01/01/2016</td>\n",
       "      <td>AMERICA 24</td>\n",
       "      <td>31300.0</td>\n",
       "    </tr>\n",
       "  </tbody>\n",
       "</table>\n",
       "</div>"
      ],
      "text/plain": [
       "  tipo       fecha        medio  importe\n",
       "0   TV  01/01/2016           TN  48000.0\n",
       "1   TV  01/01/2016           TN  48000.0\n",
       "2   TV  01/01/2016  CANAL METRO  20000.0\n",
       "3   TV  01/01/2016  CANAL METRO  25000.0\n",
       "4   TV  01/01/2016   AMERICA 24  31300.0"
      ]
     },
     "execution_count": 26,
     "metadata": {},
     "output_type": "execute_result"
    }
   ],
   "source": [
    "tv = pd.concat([tv_16,tv_17,tv_18,tv_19], axis = 0,  join = \"outer\" , ignore_index = False) \n",
    "tv.head()"
   ]
  },
  {
   "cell_type": "code",
   "execution_count": 27,
   "metadata": {
    "scrolled": true
   },
   "outputs": [
    {
     "data": {
      "text/html": [
       "<div>\n",
       "<style scoped>\n",
       "    .dataframe tbody tr th:only-of-type {\n",
       "        vertical-align: middle;\n",
       "    }\n",
       "\n",
       "    .dataframe tbody tr th {\n",
       "        vertical-align: top;\n",
       "    }\n",
       "\n",
       "    .dataframe thead th {\n",
       "        text-align: right;\n",
       "    }\n",
       "</style>\n",
       "<table border=\"1\" class=\"dataframe\">\n",
       "  <thead>\n",
       "    <tr style=\"text-align: right;\">\n",
       "      <th></th>\n",
       "      <th>tipo</th>\n",
       "      <th>fecha</th>\n",
       "      <th>medio</th>\n",
       "      <th>importe</th>\n",
       "    </tr>\n",
       "  </thead>\n",
       "  <tbody>\n",
       "    <tr>\n",
       "      <th>970</th>\n",
       "      <td>TV DE PAGO</td>\n",
       "      <td>2019/12/06</td>\n",
       "      <td>WARNER</td>\n",
       "      <td>4268188.85</td>\n",
       "    </tr>\n",
       "    <tr>\n",
       "      <th>971</th>\n",
       "      <td>TV DE PAGO</td>\n",
       "      <td>2019/12/06</td>\n",
       "      <td>TNT</td>\n",
       "      <td>4655975.94</td>\n",
       "    </tr>\n",
       "    <tr>\n",
       "      <th>972</th>\n",
       "      <td>TV DE PAGO</td>\n",
       "      <td>2019/12/06</td>\n",
       "      <td>ESPN</td>\n",
       "      <td>609995.70</td>\n",
       "    </tr>\n",
       "    <tr>\n",
       "      <th>973</th>\n",
       "      <td>TV DE PAGO</td>\n",
       "      <td>2019/12/09</td>\n",
       "      <td>FOX SPORTS</td>\n",
       "      <td>860000.00</td>\n",
       "    </tr>\n",
       "    <tr>\n",
       "      <th>974</th>\n",
       "      <td>TV DE PAGO</td>\n",
       "      <td>2019/12/18</td>\n",
       "      <td>TyC Sports</td>\n",
       "      <td>500000.00</td>\n",
       "    </tr>\n",
       "  </tbody>\n",
       "</table>\n",
       "</div>"
      ],
      "text/plain": [
       "           tipo       fecha       medio     importe\n",
       "970  TV DE PAGO  2019/12/06      WARNER  4268188.85\n",
       "971  TV DE PAGO  2019/12/06         TNT  4655975.94\n",
       "972  TV DE PAGO  2019/12/06        ESPN   609995.70\n",
       "973  TV DE PAGO  2019/12/09  FOX SPORTS   860000.00\n",
       "974  TV DE PAGO  2019/12/18  TyC Sports   500000.00"
      ]
     },
     "execution_count": 27,
     "metadata": {},
     "output_type": "execute_result"
    }
   ],
   "source": [
    "tv.tail()"
   ]
  },
  {
   "cell_type": "code",
   "execution_count": 28,
   "metadata": {},
   "outputs": [
    {
     "data": {
      "text/html": [
       "<div>\n",
       "<style scoped>\n",
       "    .dataframe tbody tr th:only-of-type {\n",
       "        vertical-align: middle;\n",
       "    }\n",
       "\n",
       "    .dataframe tbody tr th {\n",
       "        vertical-align: top;\n",
       "    }\n",
       "\n",
       "    .dataframe thead th {\n",
       "        text-align: right;\n",
       "    }\n",
       "</style>\n",
       "<table border=\"1\" class=\"dataframe\">\n",
       "  <thead>\n",
       "    <tr style=\"text-align: right;\">\n",
       "      <th></th>\n",
       "      <th>tipo</th>\n",
       "      <th>fecha</th>\n",
       "      <th>medio</th>\n",
       "      <th>importe</th>\n",
       "    </tr>\n",
       "  </thead>\n",
       "  <tbody>\n",
       "    <tr>\n",
       "      <th>0</th>\n",
       "      <td>TV</td>\n",
       "      <td>01/01/2016</td>\n",
       "      <td>TN</td>\n",
       "      <td>48000.0</td>\n",
       "    </tr>\n",
       "    <tr>\n",
       "      <th>1</th>\n",
       "      <td>TV</td>\n",
       "      <td>01/01/2016</td>\n",
       "      <td>TN</td>\n",
       "      <td>48000.0</td>\n",
       "    </tr>\n",
       "    <tr>\n",
       "      <th>2</th>\n",
       "      <td>TV</td>\n",
       "      <td>01/01/2016</td>\n",
       "      <td>CANAL METRO</td>\n",
       "      <td>20000.0</td>\n",
       "    </tr>\n",
       "  </tbody>\n",
       "</table>\n",
       "</div>"
      ],
      "text/plain": [
       "  tipo       fecha        medio  importe\n",
       "0   TV  01/01/2016           TN  48000.0\n",
       "1   TV  01/01/2016           TN  48000.0\n",
       "2   TV  01/01/2016  CANAL METRO  20000.0"
      ]
     },
     "execution_count": 28,
     "metadata": {},
     "output_type": "execute_result"
    }
   ],
   "source": [
    "# HAGO QUE TODA LA COLUMNA TIPO DIGA TV, SIN IMPORTAR SI ES ABIERTA O PAGA\n",
    "\n",
    "tv['tipo'] = 'TV'\n",
    "tv.head(3)"
   ]
  },
  {
   "cell_type": "code",
   "execution_count": 29,
   "metadata": {
    "scrolled": true
   },
   "outputs": [
    {
     "data": {
      "text/plain": [
       "tipo       False\n",
       "fecha      False\n",
       "medio      False\n",
       "importe    False\n",
       "dtype: bool"
      ]
     },
     "execution_count": 29,
     "metadata": {},
     "output_type": "execute_result"
    }
   ],
   "source": [
    "tv.isnull().any()"
   ]
  },
  {
   "cell_type": "code",
   "execution_count": 30,
   "metadata": {},
   "outputs": [
    {
     "data": {
      "text/plain": [
       "(4306, 4)"
      ]
     },
     "execution_count": 30,
     "metadata": {},
     "output_type": "execute_result"
    }
   ],
   "source": [
    "np.shape(tv)"
   ]
  },
  {
   "cell_type": "markdown",
   "metadata": {},
   "source": [
    "## Analizamos TV por ser el Tipo de medio con mayor inversion a lo largo de los años"
   ]
  },
  {
   "cell_type": "code",
   "execution_count": 31,
   "metadata": {},
   "outputs": [],
   "source": [
    "#CREO COLUMNA ANIO\n",
    "tv.fecha = pd.to_datetime(tv.fecha)\n",
    "tv['anio'] = tv.fecha.dt.year\n"
   ]
  },
  {
   "cell_type": "code",
   "execution_count": 32,
   "metadata": {},
   "outputs": [],
   "source": [
    "# CREO COLUMNA MES\n",
    "tv.fecha = pd.to_datetime(tv.fecha)\n",
    "tv['mes'] = tv.fecha.dt.month\n"
   ]
  },
  {
   "cell_type": "code",
   "execution_count": 33,
   "metadata": {},
   "outputs": [
    {
     "data": {
      "text/html": [
       "<div>\n",
       "<style scoped>\n",
       "    .dataframe tbody tr th:only-of-type {\n",
       "        vertical-align: middle;\n",
       "    }\n",
       "\n",
       "    .dataframe tbody tr th {\n",
       "        vertical-align: top;\n",
       "    }\n",
       "\n",
       "    .dataframe thead th {\n",
       "        text-align: right;\n",
       "    }\n",
       "</style>\n",
       "<table border=\"1\" class=\"dataframe\">\n",
       "  <thead>\n",
       "    <tr style=\"text-align: right;\">\n",
       "      <th></th>\n",
       "      <th>tipo</th>\n",
       "      <th>fecha</th>\n",
       "      <th>medio</th>\n",
       "      <th>importe en millones</th>\n",
       "      <th>anio</th>\n",
       "      <th>mes</th>\n",
       "    </tr>\n",
       "  </thead>\n",
       "  <tbody>\n",
       "    <tr>\n",
       "      <th>0</th>\n",
       "      <td>TV</td>\n",
       "      <td>2016-01-01</td>\n",
       "      <td>TN</td>\n",
       "      <td>48000.0</td>\n",
       "      <td>2016</td>\n",
       "      <td>1</td>\n",
       "    </tr>\n",
       "    <tr>\n",
       "      <th>1</th>\n",
       "      <td>TV</td>\n",
       "      <td>2016-01-01</td>\n",
       "      <td>TN</td>\n",
       "      <td>48000.0</td>\n",
       "      <td>2016</td>\n",
       "      <td>1</td>\n",
       "    </tr>\n",
       "    <tr>\n",
       "      <th>2</th>\n",
       "      <td>TV</td>\n",
       "      <td>2016-01-01</td>\n",
       "      <td>CANAL METRO</td>\n",
       "      <td>20000.0</td>\n",
       "      <td>2016</td>\n",
       "      <td>1</td>\n",
       "    </tr>\n",
       "    <tr>\n",
       "      <th>3</th>\n",
       "      <td>TV</td>\n",
       "      <td>2016-01-01</td>\n",
       "      <td>CANAL METRO</td>\n",
       "      <td>25000.0</td>\n",
       "      <td>2016</td>\n",
       "      <td>1</td>\n",
       "    </tr>\n",
       "    <tr>\n",
       "      <th>4</th>\n",
       "      <td>TV</td>\n",
       "      <td>2016-01-01</td>\n",
       "      <td>AMERICA 24</td>\n",
       "      <td>31300.0</td>\n",
       "      <td>2016</td>\n",
       "      <td>1</td>\n",
       "    </tr>\n",
       "  </tbody>\n",
       "</table>\n",
       "</div>"
      ],
      "text/plain": [
       "  tipo      fecha        medio  importe en millones  anio  mes\n",
       "0   TV 2016-01-01           TN              48000.0  2016    1\n",
       "1   TV 2016-01-01           TN              48000.0  2016    1\n",
       "2   TV 2016-01-01  CANAL METRO              20000.0  2016    1\n",
       "3   TV 2016-01-01  CANAL METRO              25000.0  2016    1\n",
       "4   TV 2016-01-01   AMERICA 24              31300.0  2016    1"
      ]
     },
     "execution_count": 33,
     "metadata": {},
     "output_type": "execute_result"
    }
   ],
   "source": [
    "tv.columns=['tipo','fecha','medio','importe en millones','anio','mes']\n",
    "tv.head()"
   ]
  },
  {
   "cell_type": "code",
   "execution_count": 34,
   "metadata": {},
   "outputs": [
    {
     "data": {
      "text/html": [
       "<div>\n",
       "<style scoped>\n",
       "    .dataframe tbody tr th:only-of-type {\n",
       "        vertical-align: middle;\n",
       "    }\n",
       "\n",
       "    .dataframe tbody tr th {\n",
       "        vertical-align: top;\n",
       "    }\n",
       "\n",
       "    .dataframe thead th {\n",
       "        text-align: right;\n",
       "    }\n",
       "</style>\n",
       "<table border=\"1\" class=\"dataframe\">\n",
       "  <thead>\n",
       "    <tr style=\"text-align: right;\">\n",
       "      <th></th>\n",
       "      <th>tipo</th>\n",
       "      <th>fecha</th>\n",
       "      <th>medio</th>\n",
       "      <th>importe en millones</th>\n",
       "      <th>anio</th>\n",
       "      <th>mes</th>\n",
       "    </tr>\n",
       "  </thead>\n",
       "  <tbody>\n",
       "    <tr>\n",
       "      <th>0</th>\n",
       "      <td>TV</td>\n",
       "      <td>2016-01-01</td>\n",
       "      <td>TN</td>\n",
       "      <td>0.048</td>\n",
       "      <td>2016</td>\n",
       "      <td>1</td>\n",
       "    </tr>\n",
       "    <tr>\n",
       "      <th>1</th>\n",
       "      <td>TV</td>\n",
       "      <td>2016-01-01</td>\n",
       "      <td>TN</td>\n",
       "      <td>0.048</td>\n",
       "      <td>2016</td>\n",
       "      <td>1</td>\n",
       "    </tr>\n",
       "    <tr>\n",
       "      <th>2</th>\n",
       "      <td>TV</td>\n",
       "      <td>2016-01-01</td>\n",
       "      <td>CANAL METRO</td>\n",
       "      <td>0.020</td>\n",
       "      <td>2016</td>\n",
       "      <td>1</td>\n",
       "    </tr>\n",
       "  </tbody>\n",
       "</table>\n",
       "</div>"
      ],
      "text/plain": [
       "  tipo      fecha        medio  importe en millones  anio  mes\n",
       "0   TV 2016-01-01           TN                0.048  2016    1\n",
       "1   TV 2016-01-01           TN                0.048  2016    1\n",
       "2   TV 2016-01-01  CANAL METRO                0.020  2016    1"
      ]
     },
     "execution_count": 34,
     "metadata": {},
     "output_type": "execute_result"
    }
   ],
   "source": [
    "tv['importe en millones']=tv['importe en millones']/1000000\n",
    "tv.columns=['tipo','fecha','medio','importe en millones','anio','mes']\n",
    "tv.head(3)"
   ]
  },
  {
   "cell_type": "code",
   "execution_count": 35,
   "metadata": {},
   "outputs": [
    {
     "data": {
      "text/plain": [
       "(4306, 6)"
      ]
     },
     "execution_count": 35,
     "metadata": {},
     "output_type": "execute_result"
    }
   ],
   "source": [
    "tv.shape"
   ]
  },
  {
   "cell_type": "markdown",
   "metadata": {},
   "source": [
    "# MODELOS MACHINE LEARNING"
   ]
  },
  {
   "cell_type": "markdown",
   "metadata": {},
   "source": [
    "## Regresion para TV"
   ]
  },
  {
   "cell_type": "code",
   "execution_count": 36,
   "metadata": {},
   "outputs": [],
   "source": [
    "# Vamos a crear un dataframe para guardar los resultados de cada estimador\n",
    "results_df = pd.DataFrame(columns=['Model','Features','R2','MSE','MAE'])"
   ]
  },
  {
   "cell_type": "code",
   "execution_count": 37,
   "metadata": {
    "scrolled": false
   },
   "outputs": [
    {
     "data": {
      "text/html": [
       "<div>\n",
       "<style scoped>\n",
       "    .dataframe tbody tr th:only-of-type {\n",
       "        vertical-align: middle;\n",
       "    }\n",
       "\n",
       "    .dataframe tbody tr th {\n",
       "        vertical-align: top;\n",
       "    }\n",
       "\n",
       "    .dataframe thead th {\n",
       "        text-align: right;\n",
       "    }\n",
       "</style>\n",
       "<table border=\"1\" class=\"dataframe\">\n",
       "  <thead>\n",
       "    <tr style=\"text-align: right;\">\n",
       "      <th></th>\n",
       "      <th></th>\n",
       "      <th>importe en millones</th>\n",
       "    </tr>\n",
       "    <tr>\n",
       "      <th>anio</th>\n",
       "      <th>mes</th>\n",
       "      <th></th>\n",
       "    </tr>\n",
       "  </thead>\n",
       "  <tbody>\n",
       "    <tr>\n",
       "      <th rowspan=\"5\" valign=\"top\">2016</th>\n",
       "      <th>1</th>\n",
       "      <td>59.754325</td>\n",
       "    </tr>\n",
       "    <tr>\n",
       "      <th>2</th>\n",
       "      <td>22.633715</td>\n",
       "    </tr>\n",
       "    <tr>\n",
       "      <th>3</th>\n",
       "      <td>45.128494</td>\n",
       "    </tr>\n",
       "    <tr>\n",
       "      <th>4</th>\n",
       "      <td>21.524522</td>\n",
       "    </tr>\n",
       "    <tr>\n",
       "      <th>5</th>\n",
       "      <td>18.322165</td>\n",
       "    </tr>\n",
       "  </tbody>\n",
       "</table>\n",
       "</div>"
      ],
      "text/plain": [
       "          importe en millones\n",
       "anio mes                     \n",
       "2016 1              59.754325\n",
       "     2              22.633715\n",
       "     3              45.128494\n",
       "     4              21.524522\n",
       "     5              18.322165"
      ]
     },
     "execution_count": 37,
     "metadata": {},
     "output_type": "execute_result"
    }
   ],
   "source": [
    "lr_tv = pd.pivot_table(tv,values = 'importe en millones', index = ['anio','mes'], aggfunc = np.sum, observed=True)\n",
    "lr_tv.head()"
   ]
  },
  {
   "cell_type": "code",
   "execution_count": 38,
   "metadata": {},
   "outputs": [
    {
     "data": {
      "text/html": [
       "<div>\n",
       "<style scoped>\n",
       "    .dataframe tbody tr th:only-of-type {\n",
       "        vertical-align: middle;\n",
       "    }\n",
       "\n",
       "    .dataframe tbody tr th {\n",
       "        vertical-align: top;\n",
       "    }\n",
       "\n",
       "    .dataframe thead th {\n",
       "        text-align: right;\n",
       "    }\n",
       "</style>\n",
       "<table border=\"1\" class=\"dataframe\">\n",
       "  <thead>\n",
       "    <tr style=\"text-align: right;\">\n",
       "      <th></th>\n",
       "      <th>anio</th>\n",
       "      <th>mes</th>\n",
       "      <th>importe en millones</th>\n",
       "    </tr>\n",
       "  </thead>\n",
       "  <tbody>\n",
       "    <tr>\n",
       "      <th>0</th>\n",
       "      <td>2016</td>\n",
       "      <td>1</td>\n",
       "      <td>59.754325</td>\n",
       "    </tr>\n",
       "    <tr>\n",
       "      <th>1</th>\n",
       "      <td>2016</td>\n",
       "      <td>2</td>\n",
       "      <td>22.633715</td>\n",
       "    </tr>\n",
       "    <tr>\n",
       "      <th>2</th>\n",
       "      <td>2016</td>\n",
       "      <td>3</td>\n",
       "      <td>45.128494</td>\n",
       "    </tr>\n",
       "    <tr>\n",
       "      <th>3</th>\n",
       "      <td>2016</td>\n",
       "      <td>4</td>\n",
       "      <td>21.524522</td>\n",
       "    </tr>\n",
       "    <tr>\n",
       "      <th>4</th>\n",
       "      <td>2016</td>\n",
       "      <td>5</td>\n",
       "      <td>18.322165</td>\n",
       "    </tr>\n",
       "  </tbody>\n",
       "</table>\n",
       "</div>"
      ],
      "text/plain": [
       "   anio  mes  importe en millones\n",
       "0  2016    1            59.754325\n",
       "1  2016    2            22.633715\n",
       "2  2016    3            45.128494\n",
       "3  2016    4            21.524522\n",
       "4  2016    5            18.322165"
      ]
     },
     "execution_count": 38,
     "metadata": {},
     "output_type": "execute_result"
    }
   ],
   "source": [
    "lr_tv = lr_tv.reset_index()\n",
    "lr_tv.head()"
   ]
  },
  {
   "cell_type": "code",
   "execution_count": 39,
   "metadata": {},
   "outputs": [
    {
     "data": {
      "text/html": [
       "<div>\n",
       "<style scoped>\n",
       "    .dataframe tbody tr th:only-of-type {\n",
       "        vertical-align: middle;\n",
       "    }\n",
       "\n",
       "    .dataframe tbody tr th {\n",
       "        vertical-align: top;\n",
       "    }\n",
       "\n",
       "    .dataframe thead th {\n",
       "        text-align: right;\n",
       "    }\n",
       "</style>\n",
       "<table border=\"1\" class=\"dataframe\">\n",
       "  <thead>\n",
       "    <tr style=\"text-align: right;\">\n",
       "      <th></th>\n",
       "      <th>anio</th>\n",
       "      <th>mes</th>\n",
       "    </tr>\n",
       "  </thead>\n",
       "  <tbody>\n",
       "    <tr>\n",
       "      <th>0</th>\n",
       "      <td>2016</td>\n",
       "      <td>1</td>\n",
       "    </tr>\n",
       "    <tr>\n",
       "      <th>1</th>\n",
       "      <td>2016</td>\n",
       "      <td>2</td>\n",
       "    </tr>\n",
       "    <tr>\n",
       "      <th>2</th>\n",
       "      <td>2016</td>\n",
       "      <td>3</td>\n",
       "    </tr>\n",
       "    <tr>\n",
       "      <th>3</th>\n",
       "      <td>2016</td>\n",
       "      <td>4</td>\n",
       "    </tr>\n",
       "    <tr>\n",
       "      <th>4</th>\n",
       "      <td>2016</td>\n",
       "      <td>5</td>\n",
       "    </tr>\n",
       "  </tbody>\n",
       "</table>\n",
       "</div>"
      ],
      "text/plain": [
       "   anio  mes\n",
       "0  2016    1\n",
       "1  2016    2\n",
       "2  2016    3\n",
       "3  2016    4\n",
       "4  2016    5"
      ]
     },
     "execution_count": 39,
     "metadata": {},
     "output_type": "execute_result"
    }
   ],
   "source": [
    "xtv = lr_tv.drop(['importe en millones'], axis=1)\n",
    "xtv.head()"
   ]
  },
  {
   "cell_type": "code",
   "execution_count": 40,
   "metadata": {},
   "outputs": [
    {
     "data": {
      "text/html": [
       "<div>\n",
       "<style scoped>\n",
       "    .dataframe tbody tr th:only-of-type {\n",
       "        vertical-align: middle;\n",
       "    }\n",
       "\n",
       "    .dataframe tbody tr th {\n",
       "        vertical-align: top;\n",
       "    }\n",
       "\n",
       "    .dataframe thead th {\n",
       "        text-align: right;\n",
       "    }\n",
       "</style>\n",
       "<table border=\"1\" class=\"dataframe\">\n",
       "  <thead>\n",
       "    <tr style=\"text-align: right;\">\n",
       "      <th></th>\n",
       "      <th>importe en millones</th>\n",
       "    </tr>\n",
       "  </thead>\n",
       "  <tbody>\n",
       "    <tr>\n",
       "      <th>0</th>\n",
       "      <td>59.754325</td>\n",
       "    </tr>\n",
       "    <tr>\n",
       "      <th>1</th>\n",
       "      <td>22.633715</td>\n",
       "    </tr>\n",
       "    <tr>\n",
       "      <th>2</th>\n",
       "      <td>45.128494</td>\n",
       "    </tr>\n",
       "    <tr>\n",
       "      <th>3</th>\n",
       "      <td>21.524522</td>\n",
       "    </tr>\n",
       "    <tr>\n",
       "      <th>4</th>\n",
       "      <td>18.322165</td>\n",
       "    </tr>\n",
       "  </tbody>\n",
       "</table>\n",
       "</div>"
      ],
      "text/plain": [
       "   importe en millones\n",
       "0            59.754325\n",
       "1            22.633715\n",
       "2            45.128494\n",
       "3            21.524522\n",
       "4            18.322165"
      ]
     },
     "execution_count": 40,
     "metadata": {},
     "output_type": "execute_result"
    }
   ],
   "source": [
    "ytv = (lr_tv[[\"importe en millones\"]])\n",
    "ytv.head()"
   ]
  },
  {
   "cell_type": "code",
   "execution_count": 41,
   "metadata": {},
   "outputs": [],
   "source": [
    "xtvtrain, xtvtest, ytvtrain, ytvtest = train_test_split(xtv, ytv, test_size=0.6, random_state=50)"
   ]
  },
  {
   "cell_type": "code",
   "execution_count": 42,
   "metadata": {},
   "outputs": [],
   "source": [
    "#Definimos el estimador\n",
    "lr = LinearRegression()\n",
    "#Definimos diccionario con hyperparametros\n",
    "parameters = {'fit_intercept' : [False, True]}\n",
    "#Definimos la cantidad de folds para validar\n",
    "n_folds = 5\n",
    "#Definimos el objeto grid search con los parametros anteriores\n",
    "gs = GridSearchCV(lr, param_grid=parameters, cv=n_folds, refit=True, scoring=\"neg_mean_squared_error\")"
   ]
  },
  {
   "cell_type": "code",
   "execution_count": 43,
   "metadata": {},
   "outputs": [
    {
     "data": {
      "text/plain": [
       "GridSearchCV(cv=5, estimator=LinearRegression(),\n",
       "             param_grid={'fit_intercept': [False, True]},\n",
       "             scoring='neg_mean_squared_error')"
      ]
     },
     "execution_count": 43,
     "metadata": {},
     "output_type": "execute_result"
    }
   ],
   "source": [
    "#Entrenamos\n",
    "gs.fit(xtvtrain, ytvtrain)"
   ]
  },
  {
   "cell_type": "code",
   "execution_count": 44,
   "metadata": {},
   "outputs": [
    {
     "name": "stdout",
     "output_type": "stream",
     "text": [
      "LinearRegression() \n",
      "\n",
      "{'fit_intercept': True} \n",
      "\n",
      "-641.9288410029169 \n",
      "\n"
     ]
    }
   ],
   "source": [
    "print(gs.best_estimator_, \"\\n\")\n",
    "print(gs.best_params_, \"\\n\")\n",
    "print(gs.best_score_, \"\\n\")"
   ]
  },
  {
   "cell_type": "code",
   "execution_count": 45,
   "metadata": {},
   "outputs": [],
   "source": [
    "linear_prediction = gs.best_estimator_.predict(xtvtest)\n",
    "#Calculamos las metricas R2, MSE y MAE\n",
    "linear_r2 = r2_score(y_true=ytvtest, y_pred=linear_prediction)\n",
    "linear_mse = mean_squared_error(y_true=ytvtest, y_pred=linear_prediction)\n",
    "linear_mae = mean_absolute_error(y_true=ytvtest, y_pred=linear_prediction)"
   ]
  },
  {
   "cell_type": "code",
   "execution_count": 46,
   "metadata": {},
   "outputs": [
    {
     "name": "stdout",
     "output_type": "stream",
     "text": [
      "R2 score: 0.086342\n",
      "MSE: 848.999280\n",
      "MAE: 23.756503\n"
     ]
    },
    {
     "data": {
      "image/png": "[encoded data removed]",
      "text/plain": [
       "<Figure size 432x288 with 1 Axes>"
      ]
     },
     "metadata": {
      "needs_background": "light"
     },
     "output_type": "display_data"
    }
   ],
   "source": [
    "#Vamos a plotear Predictions vs True values\n",
    "plt.scatter(linear_prediction, ytvtest)\n",
    "plt.plot(np.arange(0,100),np.arange(0,100), 'r', label='Identity') #Linea identidad (Predictions = True Values)\n",
    "plt.xlabel('Predictions')\n",
    "plt.ylabel('True Values')\n",
    "plt.legend()\n",
    "print(f'R2 score: {linear_r2:.6f}')\n",
    "print(f'MSE: {linear_mse:.6f}')\n",
    "print(f'MAE: {linear_mae:.6f}')\n",
    "#los print estan al reves. MSE va donde esta MAE y viceversa. Cambiarlo"
   ]
  },
  {
   "cell_type": "code",
   "execution_count": 47,
   "metadata": {},
   "outputs": [],
   "source": [
    "#Guardamos los resultados\n",
    "results_df = results_df.append({'Model':'Linear',\n",
    "                                'Features':'Lineal',\n",
    "                                'R2':linear_r2,\n",
    "                                'MSE':linear_mse,\n",
    "                                'MAE':linear_mae},ignore_index=True)"
   ]
  },
  {
   "cell_type": "markdown",
   "metadata": {},
   "source": [
    "### Support Vector Regression"
   ]
  },
  {
   "cell_type": "code",
   "execution_count": 48,
   "metadata": {},
   "outputs": [],
   "source": [
    "# Ahora cambiamos el estimador, usaremos SVR\n",
    "svr = SVR(max_iter=25000)\n",
    "# Lista del parametro lambda (parametro 'alpha')\n",
    "parameters = {'C' : [1,10,100,10000],\n",
    "              'epsilon' : [0.001, 0.01, 0.1,1, 10,100],\n",
    "             'gamma':[0.001, 0.01, 0.1,1, 10,100]}\n",
    "# Definimos nuevamente el objeto GS con los parametros previamente definidos\n",
    "gs = GridSearchCV(svr, param_grid=parameters,refit=True,\n",
    "                  cv=n_folds, scoring=\"neg_mean_squared_error\",\n",
    "                  verbose=3, n_jobs=3)"
   ]
  },
  {
   "cell_type": "code",
   "execution_count": 49,
   "metadata": {},
   "outputs": [
    {
     "name": "stdout",
     "output_type": "stream",
     "text": [
      "Fitting 5 folds for each of 144 candidates, totalling 720 fits\n"
     ]
    },
    {
     "name": "stderr",
     "output_type": "stream",
     "text": [
      "[Parallel(n_jobs=3)]: Using backend LokyBackend with 3 concurrent workers.\n",
      "[Parallel(n_jobs=3)]: Done  28 tasks      | elapsed:    1.8s\n",
      "[Parallel(n_jobs=3)]: Done 720 out of 720 | elapsed:    4.4s finished\n",
      "C:\\Users\\lucas\\anaconda3\\lib\\site-packages\\sklearn\\utils\\validation.py:73: DataConversionWarning: A column-vector y was passed when a 1d array was expected. Please change the shape of y to (n_samples, ), for example using ravel().\n",
      "  return f(**kwargs)\n"
     ]
    },
    {
     "data": {
      "text/plain": [
       "GridSearchCV(cv=5, estimator=SVR(max_iter=25000), n_jobs=3,\n",
       "             param_grid={'C': [1, 10, 100, 10000],\n",
       "                         'epsilon': [0.001, 0.01, 0.1, 1, 10, 100],\n",
       "                         'gamma': [0.001, 0.01, 0.1, 1, 10, 100]},\n",
       "             scoring='neg_mean_squared_error', verbose=3)"
      ]
     },
     "execution_count": 49,
     "metadata": {},
     "output_type": "execute_result"
    }
   ],
   "source": [
    "# Entrenamos\n",
    "gs.fit(xtvtrain, ytvtrain)"
   ]
  },
  {
   "cell_type": "code",
   "execution_count": 50,
   "metadata": {},
   "outputs": [
    {
     "name": "stdout",
     "output_type": "stream",
     "text": [
      "SVR(C=100, epsilon=0.001, gamma=0.1, max_iter=25000) \n",
      "\n",
      "{'C': 100, 'epsilon': 0.001, 'gamma': 0.1} \n",
      "\n",
      "-354.9897330674768 \n",
      "\n"
     ]
    }
   ],
   "source": [
    "print(gs.best_estimator_, \"\\n\")\n",
    "print(gs.best_params_, \"\\n\")\n",
    "print(gs.best_score_, \"\\n\")"
   ]
  },
  {
   "cell_type": "code",
   "execution_count": 51,
   "metadata": {},
   "outputs": [],
   "source": [
    "# Prediccion + Metricas\n",
    "svr_prediction = gs.best_estimator_.predict(xtvtest)\n",
    "svr_r2 = r2_score(y_true=ytvtest, y_pred=svr_prediction)\n",
    "svr_mse = mean_squared_error(y_true=ytvtest, y_pred=svr_prediction)\n",
    "svr_mae = mean_absolute_error(y_true=ytvtest, y_pred=svr_prediction)"
   ]
  },
  {
   "cell_type": "code",
   "execution_count": 52,
   "metadata": {},
   "outputs": [
    {
     "name": "stdout",
     "output_type": "stream",
     "text": [
      "R2 score: 0.183018\n",
      "MSE: 759.164636\n",
      "MAE: 21.520007\n"
     ]
    },
    {
     "data": {
      "image/png": "[encoded data removed]",
      "text/plain": [
       "<Figure size 432x288 with 1 Axes>"
      ]
     },
     "metadata": {
      "needs_background": "light"
     },
     "output_type": "display_data"
    }
   ],
   "source": [
    "plt.scatter(svr_prediction, ytvtest)\n",
    "plt.plot(np.arange(0,100),np.arange(0,100), 'r', label='Identity')\n",
    "plt.xlabel('Predictions')\n",
    "plt.ylabel('True Values')\n",
    "plt.legend()\n",
    "print(f'R2 score: {svr_r2:.6f}')\n",
    "print(f'MSE: {svr_mse:.6f}')\n",
    "print(f'MAE: {svr_mae:.6f}')"
   ]
  },
  {
   "cell_type": "code",
   "execution_count": 53,
   "metadata": {},
   "outputs": [],
   "source": [
    "results_df = results_df.append({'Model':'SVR',\n",
    "                                'Features':'Linear',\n",
    "                                'R2':svr_r2,\n",
    "                                'MSE':svr_mse,\n",
    "                                'MAE':svr_mae},ignore_index=True)"
   ]
  },
  {
   "cell_type": "markdown",
   "metadata": {},
   "source": [
    "### Ridge Regression"
   ]
  },
  {
   "cell_type": "code",
   "execution_count": 54,
   "metadata": {},
   "outputs": [],
   "source": [
    "# Ahora cambiamos el estimador, usaremos Ridge Regression\n",
    "ridge = Ridge()\n",
    "# Lista del parametro lambda (llamado 'alpha' en el GridSearch )\n",
    "lambdas = [5,6,7,8,9,10,11,12,13,14,15]\n",
    "# Juntamos el diccionario de parametros\n",
    "parameters = {'alpha': lambdas}\n",
    "# Definimos nuevamente el objeto GS con los parametros previamente definidos\n",
    "gs = GridSearchCV(ridge, param_grid=parameters,refit=True, cv=n_folds, scoring=\"neg_mean_squared_error\")"
   ]
  },
  {
   "cell_type": "code",
   "execution_count": 55,
   "metadata": {},
   "outputs": [
    {
     "data": {
      "text/plain": [
       "GridSearchCV(cv=5, estimator=Ridge(),\n",
       "             param_grid={'alpha': [5, 6, 7, 8, 9, 10, 11, 12, 13, 14, 15]},\n",
       "             scoring='neg_mean_squared_error')"
      ]
     },
     "execution_count": 55,
     "metadata": {},
     "output_type": "execute_result"
    }
   ],
   "source": [
    "# Entrenamos\n",
    "gs.fit(xtvtrain, ytvtrain)"
   ]
  },
  {
   "cell_type": "code",
   "execution_count": 56,
   "metadata": {},
   "outputs": [
    {
     "name": "stdout",
     "output_type": "stream",
     "text": [
      "Ridge(alpha=12) \n",
      "\n",
      "{'alpha': 12} \n",
      "\n",
      "-605.2861341453124 \n",
      "\n"
     ]
    }
   ],
   "source": [
    "# Mostramos el mejor estimador, sus hyperparametros seleccionados y su resultado\n",
    "print(gs.best_estimator_, \"\\n\")\n",
    "print(gs.best_params_, \"\\n\")\n",
    "print(gs.best_score_, \"\\n\")"
   ]
  },
  {
   "cell_type": "code",
   "execution_count": 57,
   "metadata": {},
   "outputs": [
    {
     "data": {
      "image/png": "[encoded data removed]",
      "text/plain": [
       "<Figure size 720x432 with 1 Axes>"
      ]
     },
     "metadata": {
      "needs_background": "light"
     },
     "output_type": "display_data"
    }
   ],
   "source": [
    "# Vamos a plotear nuestro parametro lambda vs. el score\n",
    "fit_lambdas = [d['alpha'] for d in gs.cv_results_['params']]\n",
    "fit_scores = gs.cv_results_['mean_test_score']\n",
    "fig, ax = plt.subplots(1,1, figsize=(10,6))\n",
    "ax.plot(fit_lambdas, -fit_scores, ls='-', marker='o')\n",
    "ax.set_xscale('log')\n",
    "ax.set_yscale('log')\n",
    "ax.set_xlabel('$\\lambda$')\n",
    "ax.set_ylabel('scores');\n",
    "# En este caso, el lambda ideal seria 12"
   ]
  },
  {
   "cell_type": "code",
   "execution_count": 58,
   "metadata": {},
   "outputs": [],
   "source": [
    "#Predicciones + Metricas\n",
    "ridge_prediction = gs.best_estimator_.predict(xtvtest)\n",
    "ridge_r2 = r2_score(y_true=ytvtest, y_pred=ridge_prediction)\n",
    "ridge_mse = mean_squared_error(y_true=ytvtest, y_pred=ridge_prediction)\n",
    "ridge_mae = mean_absolute_error(y_true=ytvtest, y_pred=ridge_prediction)"
   ]
  },
  {
   "cell_type": "code",
   "execution_count": 59,
   "metadata": {},
   "outputs": [
    {
     "name": "stdout",
     "output_type": "stream",
     "text": [
      "R2 score: 0.084801\n",
      "MSE: 850.431336\n",
      "MAE: 23.623445\n"
     ]
    },
    {
     "data": {
      "image/png": "[encoded data removed]",
      "text/plain": [
       "<Figure size 432x288 with 1 Axes>"
      ]
     },
     "metadata": {
      "needs_background": "light"
     },
     "output_type": "display_data"
    }
   ],
   "source": [
    "plt.scatter(ridge_prediction, ytvtest)\n",
    "plt.plot(np.arange(0,100),np.arange(0,100), 'r', label='Identity')\n",
    "plt.xlabel('Predictions')\n",
    "plt.ylabel('True Values')\n",
    "plt.legend()\n",
    "print(f'R2 score: {ridge_r2:.6f}')\n",
    "print(f'MSE: {ridge_mse:.6f}')\n",
    "print(f'MAE: {ridge_mae:.6f}')\n"
   ]
  },
  {
   "cell_type": "code",
   "execution_count": 60,
   "metadata": {},
   "outputs": [],
   "source": [
    "#Guardamos resultados\n",
    "results_df = results_df.append({'Model':'Ridge',\n",
    "                                'Features':'Lineal',\n",
    "                                'R2':ridge_r2,\n",
    "                                'MSE':ridge_mse,\n",
    "                                'MAE':ridge_mae},ignore_index=True)"
   ]
  },
  {
   "cell_type": "code",
   "execution_count": 61,
   "metadata": {
    "scrolled": true
   },
   "outputs": [
    {
     "data": {
      "text/html": [
       "<div>\n",
       "<style scoped>\n",
       "    .dataframe tbody tr th:only-of-type {\n",
       "        vertical-align: middle;\n",
       "    }\n",
       "\n",
       "    .dataframe tbody tr th {\n",
       "        vertical-align: top;\n",
       "    }\n",
       "\n",
       "    .dataframe thead th {\n",
       "        text-align: right;\n",
       "    }\n",
       "</style>\n",
       "<table border=\"1\" class=\"dataframe\">\n",
       "  <thead>\n",
       "    <tr style=\"text-align: right;\">\n",
       "      <th></th>\n",
       "      <th>Model</th>\n",
       "      <th>Features</th>\n",
       "      <th>R2</th>\n",
       "      <th>MSE</th>\n",
       "      <th>MAE</th>\n",
       "    </tr>\n",
       "  </thead>\n",
       "  <tbody>\n",
       "    <tr>\n",
       "      <th>0</th>\n",
       "      <td>Linear</td>\n",
       "      <td>Lineal</td>\n",
       "      <td>0.086</td>\n",
       "      <td>848.999</td>\n",
       "      <td>23.757</td>\n",
       "    </tr>\n",
       "    <tr>\n",
       "      <th>1</th>\n",
       "      <td>SVR</td>\n",
       "      <td>Linear</td>\n",
       "      <td>0.183</td>\n",
       "      <td>759.165</td>\n",
       "      <td>21.520</td>\n",
       "    </tr>\n",
       "    <tr>\n",
       "      <th>2</th>\n",
       "      <td>Ridge</td>\n",
       "      <td>Lineal</td>\n",
       "      <td>0.085</td>\n",
       "      <td>850.431</td>\n",
       "      <td>23.623</td>\n",
       "    </tr>\n",
       "  </tbody>\n",
       "</table>\n",
       "</div>"
      ],
      "text/plain": [
       "    Model Features    R2     MSE    MAE\n",
       "0  Linear   Lineal 0.086 848.999 23.757\n",
       "1     SVR   Linear 0.183 759.165 21.520\n",
       "2   Ridge   Lineal 0.085 850.431 23.623"
      ]
     },
     "metadata": {},
     "output_type": "display_data"
    }
   ],
   "source": [
    "pd.set_option('display.float_format', lambda x: '%.3f' % x)\n",
    "display(results_df)"
   ]
  },
  {
   "cell_type": "code",
   "execution_count": 62,
   "metadata": {},
   "outputs": [],
   "source": [
    "# Segun el cuadro, podemos ver que el modelo que mejor se adapta a nuestros datos es el SVR.\n",
    "# Ya que es el que tiene el mejor Score (R2) y menor error"
   ]
  },
  {
   "cell_type": "markdown",
   "metadata": {},
   "source": [
    "## Predecimos valores para 2020 y 2021 con LR"
   ]
  },
  {
   "cell_type": "code",
   "execution_count": 63,
   "metadata": {},
   "outputs": [],
   "source": [
    "lr.fit(xtvtrain, ytvtrain)\n",
    "ylrpred = lr.predict(xtvtest)"
   ]
  },
  {
   "cell_type": "code",
   "execution_count": 64,
   "metadata": {},
   "outputs": [
    {
     "data": {
      "text/plain": [
       "array([[814.56227077]])"
      ]
     },
     "execution_count": 64,
     "metadata": {},
     "output_type": "execute_result"
    }
   ],
   "source": [
    "lr.predict(np.array([[2020,1]])) + lr.predict(np.array([[2020,2]])) + lr.predict(np.array([[2020,3]])) + lr.predict(np.array([[2020,4]])) + lr.predict(np.array([[2020,5]])) + lr.predict(np.array([[2020,6]])) + lr.predict(np.array([[2020,7]])) + lr.predict(np.array([[2020,8]])) + lr.predict(np.array([[2020,9]])) + lr.predict(np.array([[2020,10]])) + lr.predict(np.array([[2020,11]])) + lr.predict(np.array([[2020,12]]))"
   ]
  },
  {
   "cell_type": "code",
   "execution_count": 65,
   "metadata": {},
   "outputs": [
    {
     "data": {
      "text/plain": [
       "array([[954.5188235]])"
      ]
     },
     "execution_count": 65,
     "metadata": {},
     "output_type": "execute_result"
    }
   ],
   "source": [
    "lr.predict(np.array([[2021,1]])) + lr.predict(np.array([[2021,2]])) + lr.predict(np.array([[2021,3]])) + lr.predict(np.array([[2021,4]])) + lr.predict(np.array([[2021,5]])) + lr.predict(np.array([[2021,6]])) + lr.predict(np.array([[2021,7]])) + lr.predict(np.array([[2021,8]])) + lr.predict(np.array([[2021,9]])) + lr.predict(np.array([[2021,10]])) + lr.predict(np.array([[2021,11]])) + lr.predict(np.array([[2021,12]]))"
   ]
  }
 ],
 "metadata": {
  "kernelspec": {
   "display_name": "Python 3",
   "language": "python",
   "name": "python3"
  },
  "language_info": {
   "codemirror_mode": {
    "name": "ipython",
    "version": 3
   },
   "file_extension": ".py",
   "mimetype": "text/x-python",
   "name": "python",
   "nbconvert_exporter": "python",
   "pygments_lexer": "ipython3",
   "version": "3.8.3"
  }
 },
 "nbformat": 4,
 "nbformat_minor": 4
}
